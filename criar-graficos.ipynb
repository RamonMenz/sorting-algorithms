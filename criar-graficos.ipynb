{
 "cells": [
  {
   "cell_type": "code",
   "execution_count": null,
   "metadata": {},
   "outputs": [],
   "source": [
    "import pandas as pd\n",
    "import plotly_express as px\n",
    "\n",
    "tabela = pd.read_csv('./C/resultados.csv', delimiter=';')\n",
    "\n",
    "display(tabela)"
   ]
  },
  {
   "cell_type": "code",
   "execution_count": null,
   "metadata": {},
   "outputs": [],
   "source": [
    "tamanho_vetores = [\n",
    "    '50 mil inteiros',\n",
    "    '100 mil inteiros',\n",
    "    '150 mil inteiros',\n",
    "    '200 mil inteiros'\n",
    "]\n",
    "\n",
    "grafico = px.bar(\n",
    "    tabela,\n",
    "    x='Algoritmo',\n",
    "    y=tamanho_vetores,\n",
    "    barmode='group',\n",
    "    title=\"Tempos de execução de diferentes Algoritmos de Ordenação\",\n",
    "    text_auto=True,\n",
    "    labels={\n",
    "        'variable': 'Tamanho dos Vetores',\n",
    "        'value': 'Tempo (ms)'\n",
    "    }\n",
    ")\n",
    "grafico.show()\n",
    "\n",
    "grafico = px.bar(\n",
    "    tabela.tail(2),\n",
    "    x='Algoritmo',\n",
    "    y=tamanho_vetores,\n",
    "    barmode='group',\n",
    "    title=\"Tempos de execução do Merge Sort e do Quick Sort\",\n",
    "    text_auto=True,\n",
    "    labels={\n",
    "        'variable': 'Tamanho dos Vetores',\n",
    "        'value': 'Tempo (ms)'\n",
    "    }\n",
    ")\n",
    "grafico.show()"
   ]
  }
 ],
 "metadata": {
  "kernelspec": {
   "display_name": "venv",
   "language": "python",
   "name": "python3"
  },
  "language_info": {
   "codemirror_mode": {
    "name": "ipython",
    "version": 3
   },
   "file_extension": ".py",
   "mimetype": "text/x-python",
   "name": "python",
   "nbconvert_exporter": "python",
   "pygments_lexer": "ipython3",
   "version": "3.12.1"
  }
 },
 "nbformat": 4,
 "nbformat_minor": 2
}
